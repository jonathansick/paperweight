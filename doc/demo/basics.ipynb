{
 "metadata": {
  "name": "",
  "signature": "sha256:9f9ad45da07fbf43af04a877bb8f0af662ff91af60ebc1a537bf00ca25f11cfc"
 },
 "nbformat": 3,
 "nbformat_minor": 0,
 "worksheets": [
  {
   "cells": [
    {
     "cell_type": "markdown",
     "metadata": {},
     "source": [
      "# Paperweight Basics\n",
      "\n",
      "This guide provides a brief demo of what you can do with Paperweight. Here we'll use a LaTeX document that I have handy, but you may want to try the same commands on your own papers. There are some issues typesetting ipython notebooks on Read The Docs, so you may prefer to [view this notebook with the ipython notebook viewer](http://nbviewer.ipython.org/github/jonathansick/paperweight/blob/master/doc/demo/basics.ipynb).\n",
      "\n",
      "First, let's set our current working directory to match the paper for convenience."
     ]
    },
    {
     "cell_type": "code",
     "collapsed": false,
     "input": [
      "from pprint import pprint\n",
      "import os\n",
      "os.chdir(\"/Users/jsick/Dropbox/m31/writing/skysubpub\")\n",
      "!rm embedded_demo.tex"
     ],
     "language": "python",
     "metadata": {},
     "outputs": [
      {
       "output_type": "stream",
       "stream": "stdout",
       "text": [
        "rm: embedded_demo.tex: No such file or directory\r\n"
       ]
      }
     ],
     "prompt_number": 1
    },
    {
     "cell_type": "markdown",
     "metadata": {},
     "source": [
      "If you're processing TeX documents in an automated fashion, you might not know *a priori* what file contains the root of a LaTeX document. By *root* we mean the file with a ``'\\documentclass'`` declaration. Paperweight provides an API to find this. (Note that ``find_root_tex_document()`` can accept a directory path as an argument, so you are not restricted to the current working directory)"
     ]
    },
    {
     "cell_type": "code",
     "collapsed": false,
     "input": [
      "from paperweight import texutils\n",
      "root_tex_path = texutils.find_root_tex_document()\n",
      "print(root_tex_path)"
     ],
     "language": "python",
     "metadata": {},
     "outputs": [
      {
       "output_type": "stream",
       "stream": "stdout",
       "text": [
        "./skysub.tex\n"
       ]
      }
     ],
     "prompt_number": 2
    },
    {
     "cell_type": "markdown",
     "metadata": {},
     "source": [
      "## Working with LaTeX Documents\n",
      "\n",
      "Now that we know where our LaTeX document is, we can open it as a ``FilesystemTexDocument``. Note we also provide a ``GitTexDocument`` class to work with documents stored in an arbitrary commit within a git repo. We'll get to that in a separate demo."
     ]
    },
    {
     "cell_type": "code",
     "collapsed": false,
     "input": [
      "from paperweight.document import FilesystemTexDocument\n",
      "doc = FilesystemTexDocument(root_tex_path)"
     ],
     "language": "python",
     "metadata": {},
     "outputs": [],
     "prompt_number": 3
    },
    {
     "cell_type": "markdown",
     "metadata": {},
     "source": [
      "With a ``FilesystemTexDocument`` you can ask questions about the document, such as what BibTeX file it uses:"
     ]
    },
    {
     "cell_type": "code",
     "collapsed": false,
     "input": [
      "print(doc.bib_name)\n",
      "print(doc.bib_path)"
     ],
     "language": "python",
     "metadata": {},
     "outputs": [
      {
       "output_type": "stream",
       "stream": "stdout",
       "text": [
        "master.bib\n",
        "/Users/jsick/Library/texmf/bibtex/bib/master.bib\n"
       ]
      }
     ],
     "prompt_number": 4
    },
    {
     "cell_type": "markdown",
     "metadata": {},
     "source": [
      "or what the names and word-count locations of the sections are:"
     ]
    },
    {
     "cell_type": "code",
     "collapsed": false,
     "input": [
      "doc.sections"
     ],
     "language": "python",
     "metadata": {},
     "outputs": [
      {
       "metadata": {},
       "output_type": "pyout",
       "prompt_number": 5,
       "text": [
        "[(908, u'Introduction'),\n",
        " (2601, u'Observations'),\n",
        " (4641, u'Image Preparation'),\n",
        " (6186, u'Sky Flat Fielding and Median Sky Subtraction'),\n",
        " (7762, u'Photometric calibration'),\n",
        " (8317, u'Analysis of Sky Flat Fielding and Background Subtraction Methods'),\n",
        " (12500, u'Sky Offset Optimization'),\n",
        " (14284, u'Analysis of Scalar Sky Offsets'),\n",
        " (17032, u'Systematic Uncertainties in Surface Brightness Reconstruction'),\n",
        " (18456, u'Conclusions')]"
       ]
      }
     ],
     "prompt_number": 5
    },
    {
     "cell_type": "markdown",
     "metadata": {},
     "source": [
      "or what other tex files it includes using ``\\input{}`` commands:"
     ]
    },
    {
     "cell_type": "code",
     "collapsed": false,
     "input": [
      "doc.find_input_documents()"
     ],
     "language": "python",
     "metadata": {},
     "outputs": [
      {
       "metadata": {},
       "output_type": "pyout",
       "prompt_number": 6,
       "text": [
        "[u'tables/nightset_medsky_offset_hierarchy.tex',\n",
        " u'tables/nightset_medsky_scalar_resid_diffs.tex']"
       ]
      }
     ],
     "prompt_number": 6
    },
    {
     "cell_type": "markdown",
     "metadata": {},
     "source": [
      "We can manipulate our LaTeX document too. For instance, we can embed the input TeX files and bibliography directly into the main text body:"
     ]
    },
    {
     "cell_type": "code",
     "collapsed": false,
     "input": [
      "doc.inline_inputs()\n",
      "doc.inline_bbl()"
     ],
     "language": "python",
     "metadata": {},
     "outputs": [],
     "prompt_number": 7
    },
    {
     "cell_type": "markdown",
     "metadata": {},
     "source": [
      "Now you'll see that we no longer reference other tex files or a bibtex file since all text content is embedded into the root TeX document. This can be handy for submitting the article to a journal (in fact the [preprint](http://github.com/jonathansick/preprint) tool uses Paperweight to do just that)."
     ]
    },
    {
     "cell_type": "code",
     "collapsed": false,
     "input": [
      "print(doc.find_input_documents())\n",
      "print(doc.bib_name)"
     ],
     "language": "python",
     "metadata": {},
     "outputs": [
      {
       "output_type": "stream",
       "stream": "stdout",
       "text": [
        "[]\n",
        "None\n"
       ]
      }
     ],
     "prompt_number": 8
    },
    {
     "cell_type": "markdown",
     "metadata": {},
     "source": [
      "We can delete comments from the LaTeX source as well. When we do that you'll notice that the sections now appear at earlier word count locations."
     ]
    },
    {
     "cell_type": "code",
     "collapsed": false,
     "input": [
      "doc.remove_comments()"
     ],
     "language": "python",
     "metadata": {},
     "outputs": [],
     "prompt_number": 9
    },
    {
     "cell_type": "code",
     "collapsed": false,
     "input": [
      "doc.sections"
     ],
     "language": "python",
     "metadata": {},
     "outputs": [
      {
       "metadata": {},
       "output_type": "pyout",
       "prompt_number": 10,
       "text": [
        "[(812, u'Introduction'),\n",
        " (2505, u'Observations'),\n",
        " (4365, u'Image Preparation'),\n",
        " (5530, u'Sky Flat Fielding and Median Sky Subtraction'),\n",
        " (7011, u'Photometric calibration'),\n",
        " (7548, u'Analysis of Sky Flat Fielding and Background Subtraction Methods'),\n",
        " (10809, u'Sky Offset Optimization'),\n",
        " (12497, u'Analysis of Scalar Sky Offsets'),\n",
        " (14942, u'Systematic Uncertainties in Surface Brightness Reconstruction'),\n",
        " (16082, u'Conclusions')]"
       ]
      }
     ],
     "prompt_number": 10
    },
    {
     "cell_type": "markdown",
     "metadata": {},
     "source": [
      "You can easily write the modified TeX source back to the filesystem with the ``write()`` method:"
     ]
    },
    {
     "cell_type": "code",
     "collapsed": false,
     "input": [
      "doc.write(\"embedded_demo.tex\")"
     ],
     "language": "python",
     "metadata": {},
     "outputs": [],
     "prompt_number": 11
    },
    {
     "cell_type": "markdown",
     "metadata": {},
     "source": [
      "## Extracting Citation Information\n",
      "\n",
      "One of the goals of Paperweight is to allow us to *understand* our scientific documents. A big part of that is understanding how we cite other papers.\n",
      "\n",
      "With our document, we can ask for what references are made in the document according to the cite keys used in ``\\cite*{}`` commands:"
     ]
    },
    {
     "cell_type": "code",
     "collapsed": false,
     "input": [
      "doc.bib_keys"
     ],
     "language": "python",
     "metadata": {},
     "outputs": [
      {
       "metadata": {},
       "output_type": "pyout",
       "prompt_number": 12,
       "text": [
        "[u'Saglia:2010',\n",
        " u'Courteau:2014',\n",
        " u'Courteau:2011',\n",
        " u'Athanassoula:2006',\n",
        " u'Nelder:1965',\n",
        " u'de-Jong:1996b',\n",
        " u'Maraston:1998',\n",
        " u'Marigo:2008',\n",
        " u'Conroy:2010b',\n",
        " u'Barmby:2006',\n",
        " u'Pforr:2012',\n",
        " u'Maraston:2005',\n",
        " u'Maraston:2006',\n",
        " u'Williams:2003',\n",
        " u'Williams:2002',\n",
        " u'Bruzual:2007',\n",
        " u'Brown:2009a',\n",
        " u'Press:2007',\n",
        " u'Olsen:2006',\n",
        " u'Bertin:2002',\n",
        " u'McConnachie:2005',\n",
        " u'McConnachie:2009',\n",
        " u'Bertin:1996',\n",
        " u'Bertin:2006',\n",
        " u'Brown:2008',\n",
        " u'Adams:1996',\n",
        " u'Dalcanton:2012',\n",
        " u'Brown:2003',\n",
        " u'Dutton:2005',\n",
        " u'Sick:2013a',\n",
        " u'Marmo:2008',\n",
        " u'Massey:2006',\n",
        " u'Irwin:2005',\n",
        " u'Skrutskie:2006',\n",
        " u'MacArthur:2004',\n",
        " u'Conroy:2013',\n",
        " u'Ibata:2005',\n",
        " u'Berriman:2008',\n",
        " u'Kormendy:2004',\n",
        " u'Taylor:2011',\n",
        " u'Beaton:2007',\n",
        " u'Puget:2004',\n",
        " u'Brown:2006',\n",
        " u'Vaduvescu:2004',\n",
        " u'Worthey:2005']"
       ]
      }
     ],
     "prompt_number": 12
    },
    {
     "cell_type": "markdown",
     "metadata": {},
     "source": [
      "This is useful, but we can go deeper by understanding the context in which these works are cited. To do this we can use the `extract_citation_context()` method to generate a dictionary, keyed by bib keys, of all citation instances in the document. In this example paper I've cited 45 works:"
     ]
    },
    {
     "cell_type": "code",
     "collapsed": false,
     "input": [
      "cites = doc.extract_citation_context()\n",
      "print(len(cites))"
     ],
     "language": "python",
     "metadata": {},
     "outputs": [
      {
       "output_type": "stream",
       "stream": "stdout",
       "text": [
        "45\n"
       ]
      }
     ],
     "prompt_number": 13
    },
    {
     "cell_type": "markdown",
     "metadata": {},
     "source": [
      "Each entry in the `cites` dictionary is a list of specific occurences where that work was cited. Thus its easy to count the number of times each work was cited:"
     ]
    },
    {
     "cell_type": "code",
     "collapsed": false,
     "input": [
      "for cite_key, instances in cites.iteritems():\n",
      "    print(\"{0} cited {1:d} time(s)\".format(cite_key, len(instances)))"
     ],
     "language": "python",
     "metadata": {},
     "outputs": [
      {
       "output_type": "stream",
       "stream": "stdout",
       "text": [
        "Saglia:2010 cited 1 time(s)\n",
        "Courteau:2014 cited 2 time(s)\n",
        "Courteau:2011 cited 1 time(s)\n",
        "Athanassoula:2006 cited 1 time(s)\n",
        "Nelder:1965 cited 1 time(s)\n",
        "de-Jong:1996b cited 1 time(s)\n",
        "Maraston:1998 cited 1 time(s)\n",
        "Marigo:2008 cited 1 time(s)\n",
        "Conroy:2010b cited 1 time(s)\n",
        "Barmby:2006 cited 5 time(s)\n",
        "Pforr:2012 cited 1 time(s)\n",
        "Maraston:2005 cited 1 time(s)\n",
        "Maraston:2006 cited 1 time(s)\n",
        "Williams:2003 cited 1 time(s)\n",
        "Williams:2002 cited 1 time(s)\n",
        "Bruzual:2007 cited 1 time(s)\n",
        "Brown:2009a cited 1 time(s)\n",
        "Press:2007 cited 1 time(s)\n",
        "Olsen:2006 cited 1 time(s)\n",
        "Bertin:2002 cited 1 time(s)\n",
        "McConnachie:2005 cited 1 time(s)\n",
        "McConnachie:2009 cited 1 time(s)\n",
        "Bertin:1996 cited 2 time(s)\n",
        "Bertin:2006 cited 1 time(s)\n",
        "Brown:2008 cited 1 time(s)\n",
        "Adams:1996 cited 4 time(s)\n",
        "Dalcanton:2012 cited 2 time(s)\n",
        "Brown:2003 cited 1 time(s)\n",
        "Dutton:2005 cited 1 time(s)\n",
        "Sick:2013a cited 1 time(s)\n",
        "Marmo:2008 cited 1 time(s)\n",
        "Massey:2006 cited 1 time(s)\n",
        "Irwin:2005 cited 1 time(s)\n",
        "Skrutskie:2006 cited 2 time(s)\n",
        "MacArthur:2004 cited 1 time(s)\n",
        "Conroy:2013 cited 1 time(s)\n",
        "Ibata:2005 cited 1 time(s)\n",
        "Berriman:2008 cited 2 time(s)\n",
        "Kormendy:2004 cited 1 time(s)\n",
        "Taylor:2011 cited 1 time(s)\n",
        "Beaton:2007 cited 2 time(s)\n",
        "Puget:2004 cited 2 time(s)\n",
        "Brown:2006 cited 1 time(s)\n",
        "Vaduvescu:2004 cited 7 time(s)\n",
        "Worthey:2005 cited 1 time(s)\n"
       ]
      }
     ],
     "prompt_number": 14
    },
    {
     "cell_type": "markdown",
     "metadata": {},
     "source": [
      "It looks like I've cited `Vaduvescu:2004` a lot. Lets look at where it was cited:"
     ]
    },
    {
     "cell_type": "code",
     "collapsed": false,
     "input": [
      "print([c['section'] for c in cites['Vaduvescu:2004']])"
     ],
     "language": "python",
     "metadata": {},
     "outputs": [
      {
       "output_type": "stream",
       "stream": "stdout",
       "text": [
        "[(812, u'Introduction'), (2505, u'Observations'), (2505, u'Observations'), (2505, u'Observations'), (7548, u'Analysis of Sky Flat Fielding and Background Subtraction Methods'), (7548, u'Analysis of Sky Flat Fielding and Background Subtraction Methods'), (12497, u'Analysis of Scalar Sky Offsets')]\n"
       ]
      }
     ],
     "prompt_number": 15
    },
    {
     "cell_type": "markdown",
     "metadata": {},
     "source": [
      "In the list above, the first item lists the cumulative word count where the section starts, while the second item is the name of the section.\n",
      "\n",
      "There's a lot of other information associated with each citation instance. Here's metadata associated with the first reference to `Vaduvescu:2004`:"
     ]
    },
    {
     "cell_type": "code",
     "collapsed": false,
     "input": [
      "pprint(cites['Vaduvescu:2004'][0])"
     ],
     "language": "python",
     "metadata": {},
     "outputs": [
      {
       "output_type": "stream",
       "stream": "stdout",
       "text": [
        "{'position': 2235,\n",
        " 'section': (812, u'Introduction'),\n",
        " 'wordsafter': u'also found detector systems , case ( decommissioned ) CFHT - IR camera , add time - varying background signal',\n",
        " 'wordsbefore': u'Spatial structures NIR sky leave residual shapes background subtracted disk images ultimately affect ability produce seamless NIR mosaic M31 .'}\n"
       ]
      }
     ],
     "prompt_number": 16
    },
    {
     "cell_type": "code",
     "collapsed": false,
     "input": [],
     "language": "python",
     "metadata": {},
     "outputs": []
    }
   ],
   "metadata": {}
  }
 ]
}